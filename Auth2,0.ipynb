{
  "cells": [
    {
      "cell_type": "markdown",
      "metadata": {
        "id": "view-in-github",
        "colab_type": "text"
      },
      "source": [
        "<a href=\"https://colab.research.google.com/github/DodonisHC/teste-novo/blob/master/Auth2%2C0.ipynb\" target=\"_parent\"><img src=\"https://colab.research.google.com/assets/colab-badge.svg\" alt=\"Open In Colab\"/></a>"
      ]
    },
    {
      "cell_type": "code",
      "execution_count": 1,
      "metadata": {
        "colab": {
          "base_uri": "https://localhost:8080/"
        },
        "id": "FT6cX3C_nnn_",
        "outputId": "8fadcd93-b47a-4649-b0be-1de477f5b55b"
      },
      "outputs": [
        {
          "output_type": "stream",
          "name": "stdout",
          "text": [
            "Collecting pyotp==2.3.0\n",
            "  Downloading pyotp-2.3.0-py2.py3-none-any.whl (10 kB)\n",
            "Installing collected packages: pyotp\n",
            "Successfully installed pyotp-2.3.0\n"
          ]
        }
      ],
      "source": [
        "pip install pyotp==2.3.0"
      ]
    },
    {
      "cell_type": "code",
      "execution_count": 2,
      "metadata": {
        "colab": {
          "base_uri": "https://localhost:8080/"
        },
        "id": "vFYhSB22lf80",
        "outputId": "456df155-d9a1-4037-a91a-2206147232ca"
      },
      "outputs": [
        {
          "output_type": "stream",
          "name": "stdout",
          "text": [
            "875479\n"
          ]
        }
      ],
      "source": [
        "import pyotp\n",
        "from pyotp import TOTP\n",
        "\n",
        "ga_secret = \"LK5BQ6PL2OELY3BGE45Q3PKH3TFJMS35\"   #your GA 32 character hash\n",
        "totp = TOTP(ga_secret)\n",
        "token = totp.now()\n",
        "print(token)\n"
      ]
    }
  ],
  "metadata": {
    "colab": {
      "provenance": [],
      "authorship_tag": "ABX9TyNEvymw8vAUjILMbIHvZ9nl",
      "include_colab_link": true
    },
    "kernelspec": {
      "display_name": "Python 3",
      "name": "python3"
    },
    "language_info": {
      "name": "python"
    }
  },
  "nbformat": 4,
  "nbformat_minor": 0
}